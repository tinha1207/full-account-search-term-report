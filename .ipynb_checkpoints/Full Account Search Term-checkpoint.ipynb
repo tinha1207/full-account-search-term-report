{
 "cells": [
  {
   "cell_type": "markdown",
   "id": "183b4f20-ce4a-4606-bdd3-b70602329baa",
   "metadata": {},
   "source": [
    "# Search Term Ranker"
   ]
  },
  {
   "cell_type": "markdown",
   "id": "08334a81-934f-44a6-9bd7-434974a6b5b8",
   "metadata": {},
   "source": [
    "## Search Term Params"
   ]
  },
  {
   "cell_type": "code",
   "execution_count": 1,
   "id": "630836a2-7748-4939-8138-e47853a4815c",
   "metadata": {},
   "outputs": [
    {
     "name": "stdout",
     "output_type": "stream",
     "text": [
      "['B075HGRLJJ', 'B082XNRBHC']\n"
     ]
    }
   ],
   "source": [
    "file = r\"Sample Input.xlsx\"\n",
    "new_file = \"output.xlsx\"\n",
    "\n",
    "min_cvr = 0.02\n",
    "min_acos = .001\n",
    "max_acos = 1.4\n",
    "min_clicks = 14\n",
    "min_orders = 2 \n",
    "\n",
    "# Asin list input as string\n",
    "ASINS = \"\"\"  \n",
    "B075HGRLJJ\n",
    "B082XNRBHC\n",
    "\"\"\"\n",
    "\n",
    "ASIN_LIST = (ASINS.strip().split(\"\\n\"))\n",
    "print(ASIN_LIST)\n"
   ]
  },
  {
   "cell_type": "markdown",
   "id": "5de84dcc-21f3-43eb-b102-452e2e874a73",
   "metadata": {},
   "source": [
    "### Import 30 Day ST Report"
   ]
  },
  {
   "cell_type": "code",
   "execution_count": 2,
   "id": "6c576699-9509-48a9-87b3-7ceee137f9f0",
   "metadata": {},
   "outputs": [
    {
     "ename": "ImportError",
     "evalue": "attempted relative import with no known parent package",
     "output_type": "error",
     "traceback": [
      "\u001b[1;31m---------------------------------------------------------------------------\u001b[0m",
      "\u001b[1;31mImportError\u001b[0m                               Traceback (most recent call last)",
      "\u001b[1;32m~\\AppData\\Local\\Temp/ipykernel_30504/3666957108.py\u001b[0m in \u001b[0;36m<module>\u001b[1;34m\u001b[0m\n\u001b[0;32m      3\u001b[0m \u001b[1;32mimport\u001b[0m \u001b[0mos\u001b[0m\u001b[1;33m\u001b[0m\u001b[1;33m\u001b[0m\u001b[0m\n\u001b[0;32m      4\u001b[0m \u001b[1;33m\u001b[0m\u001b[0m\n\u001b[1;32m----> 5\u001b[1;33m \u001b[1;32mfrom\u001b[0m \u001b[1;33m.\u001b[0m\u001b[0mconfig\u001b[0m \u001b[1;32mimport\u001b[0m \u001b[0mcreate_ods_clickhouse_engine\u001b[0m\u001b[1;33m\u001b[0m\u001b[1;33m\u001b[0m\u001b[0m\n\u001b[0m\u001b[0;32m      6\u001b[0m \u001b[1;33m\u001b[0m\u001b[0m\n\u001b[0;32m      7\u001b[0m \u001b[1;32mdef\u001b[0m \u001b[0mget_today\u001b[0m\u001b[1;33m(\u001b[0m\u001b[1;33m)\u001b[0m\u001b[1;33m:\u001b[0m\u001b[1;33m\u001b[0m\u001b[1;33m\u001b[0m\u001b[0m\n",
      "\u001b[1;31mImportError\u001b[0m: attempted relative import with no known parent package"
     ]
    }
   ],
   "source": [
    "import pandas as pd\n",
    "import datetime as dt\n",
    "import os\n",
    "\n",
    "from config import create_ods_clickhouse_engine\n",
    "\n",
    "def get_today():\n",
    "    date = dt.date.today()\n",
    "    date = date.strftime(\"%Y-%m-%d\")\n",
    "    return date\n",
    "\n",
    "def get_productads(asin_list ,date, sales_channel_id=1111, market=\"US\"):\n",
    "    placeholder = \", \".join(f\"'{asin}'\" for asin in asin_list)\n",
    "    params = {\n",
    "        \"date\":date,\n",
    "        \"sales_channel_id\":sales_channel_id,\n",
    "        \"market\":market\n",
    "    }\n",
    "    query = \"\"\"\n",
    "        SELECT distinct p.asin, p.adgroupid, a.name as adgroupname,  c.name as campaignname\n",
    "        FROM ods.amz_ads_sp_productads p\n",
    "        LEFT JOIN ods.amz_ads_sp_adgroups a\n",
    "        ON a.adgroupid = p.adgroupid\n",
    "        LEFT JOIN ods.amz_ads_sp_campaigns c\n",
    "        ON c.campaignid = p.campaignid\n",
    "        WHERE a.sales_channel_id = %(sales_channel_id)s\n",
    "        AND p.sales_channel_id = %(sales_channel_id)s\n",
    "        AND c.sales_channel_id = %(sales_channel_id)s\n",
    "        AND a.date = %(date)s\n",
    "        AND c.date = %(date)s\n",
    "        AND p.date = %(date)s\n",
    "        AND a.market = %(market)s\n",
    "        AND c.market = %(market)s\n",
    "        AND p.market = %(market)s\n",
    "        AND p.state != 'archived'\n",
    "        and a.state != 'archived'\n",
    "        and c.state != 'archived'\n",
    "        and p.asin IN ({placeholder})    \n",
    "\"\"\".format(placeholder=placeholder)\n",
    "    df = pd.read_sql(query,create_ods_clickhouse_engine(),params=params)\n",
    "    return df\n",
    "today = get_today()\n",
    "df = get_productads(ASIN_LIST,today)\n",
    "df"
   ]
  },
  {
   "cell_type": "code",
   "execution_count": null,
   "id": "8a7ed185-d35e-4bbf-8822-53819c56f54a",
   "metadata": {},
   "outputs": [],
   "source": [
    "# Parse Dates\n",
    "df.drop_duplicates(inplace=True)\n",
    "df2 = pd.read_excel(file)\n",
    "df2"
   ]
  },
  {
   "cell_type": "code",
   "execution_count": null,
   "id": "3b9adeeb-f9a9-4493-8261-f0ed5c72ab53",
   "metadata": {},
   "outputs": [],
   "source": [
    "df3 = df2.rename(columns={\"Ad Group Name\":\"adgroupname\",\"Campaign Name\":\"campaignname\",\"7 Day Total Sales \":\"Sales\",\"7 Day Total Orders (#)\":\"Orders\"})\n",
    "#df.drop(columns=[\"adgroupid\"],inplace=True)"
   ]
  },
  {
   "cell_type": "code",
   "execution_count": null,
   "id": "a3795bdf-d6b9-4783-9f24-dbd5fe24154d",
   "metadata": {
    "tags": []
   },
   "outputs": [],
   "source": [
    "df_final = df3.merge(df,how=\"left\")\n",
    "df_final.rename(columns={\n",
    "    \"p.asin\":\"asin\",\n",
    "    \"p.adgroupid\":\"adgroupid\"\n",
    "},inplace=True)\n",
    "df_final\n",
    "\n"
   ]
  },
  {
   "cell_type": "code",
   "execution_count": null,
   "id": "5a627406-56d3-4e37-b995-3156896fb20f",
   "metadata": {},
   "outputs": [],
   "source": [
    "df_final = df_final[[\"asin\",\"Customer Search Term\",\"Impressions\",\"Clicks\",\"Spend\",\"Sales\", \"Orders\"]]\n",
    "df_final"
   ]
  },
  {
   "cell_type": "code",
   "execution_count": null,
   "id": "7e311b52-4d5e-44e0-bae4-2c539b5bdecc",
   "metadata": {},
   "outputs": [],
   "source": [
    "df_pivot = df_final.groupby([\"asin\",\"Customer Search Term\"]).sum()\n",
    "df_pivot[\"CPC\"] = df_pivot.Spend/df_pivot.Clicks\n",
    "df_pivot[\"ACOS\"] = df_pivot.Spend/df_pivot.Sales\n",
    "df_pivot[\"CVR\"] = df_pivot.Orders/df_pivot.Clicks\n"
   ]
  },
  {
   "cell_type": "code",
   "execution_count": null,
   "id": "e7508c10-d6e0-4c20-844a-1cbcc73f40ab",
   "metadata": {},
   "outputs": [],
   "source": [
    "df_pivot.reset_index(drop=False,inplace=True)"
   ]
  },
  {
   "cell_type": "code",
   "execution_count": null,
   "id": "7cde937f-c6a9-4ae4-b7e2-95721741fed9",
   "metadata": {},
   "outputs": [],
   "source": [
    "\n",
    "df_pivot1 = df_pivot[df_pivot[\"asin\"].isin(ASIN_LIST)]\n",
    "df_pivot.to_excel(\"Amazon 30 Search Terms1.xlsx\")"
   ]
  },
  {
   "cell_type": "code",
   "execution_count": null,
   "id": "ac36677f-8e98-467e-b70c-c06fe3e38692",
   "metadata": {
    "tags": []
   },
   "outputs": [],
   "source": [
    "df_negative = df_pivot[((df_pivot[\"ACOS\"] == float(\"inf\"))|(df_pivot[\"ACOS\"] >= 1)) & (df_pivot[\"Clicks\"]>=min_clicks)]\n",
    "df_negative.sort_values(by=[\"Spend\"],ascending=False)\n"
   ]
  },
  {
   "cell_type": "code",
   "execution_count": null,
   "id": "35a01dfa-e98f-4766-951a-eb7248f38091",
   "metadata": {},
   "outputs": [],
   "source": [
    "df_good = df_pivot[(df_pivot[\"Clicks\"] >= min_clicks)&(df_pivot.ACOS < max_acos) & (df_pivot.ACOS >= min_acos) & (df_pivot.Orders>= min_orders) &(df_pivot.CVR >= min_cvr)].sort_values([\"Sales\"],ascending=False)\n",
    "df_good\n",
    "\n",
    "\n"
   ]
  },
  {
   "cell_type": "code",
   "execution_count": null,
   "id": "cf323af8-f82b-4352-a3be-789bb38f163d",
   "metadata": {},
   "outputs": [],
   "source": [
    "\n",
    "\n",
    "with pd.ExcelWriter(new_file) as writer:\n",
    "    df_good.to_excel(writer,index=False,sheet_name=\"Good\")\n",
    "    df_negative.to_excel(writer,index=False,sheet_name=\"Negatives\")\n",
    "    df_pivot.to_excel(writer,index=False,sheet_name=\"Raw Data\")\n",
    "    \n",
    "os.system(\"start EXCEL.EXE test1.xlsx\")"
   ]
  }
 ],
 "metadata": {
  "kernelspec": {
   "display_name": "Python 3 (ipykernel)",
   "language": "python",
   "name": "python3"
  },
  "language_info": {
   "codemirror_mode": {
    "name": "ipython",
    "version": 3
   },
   "file_extension": ".py",
   "mimetype": "text/x-python",
   "name": "python",
   "nbconvert_exporter": "python",
   "pygments_lexer": "ipython3",
   "version": "3.9.9"
  }
 },
 "nbformat": 4,
 "nbformat_minor": 5
}
